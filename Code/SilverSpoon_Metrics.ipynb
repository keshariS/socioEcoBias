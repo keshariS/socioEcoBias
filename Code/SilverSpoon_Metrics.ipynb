{
  "nbformat": 4,
  "nbformat_minor": 0,
  "metadata": {
    "colab": {
      "provenance": []
    },
    "kernelspec": {
      "name": "python3",
      "display_name": "Python 3"
    },
    "language_info": {
      "name": "python"
    }
  },
  "cells": [
    {
      "cell_type": "code",
      "source": [
        "from google.colab import drive\n",
        "drive.mount('/content/drive')"
      ],
      "metadata": {
        "colab": {
          "base_uri": "https://localhost:8080/"
        },
        "id": "C14V4GcsEXFN",
        "outputId": "0f5b4683-258a-4bb9-e87c-b76c8cf91dfe"
      },
      "execution_count": null,
      "outputs": [
        {
          "output_type": "stream",
          "name": "stdout",
          "text": [
            "Mounted at /content/drive\n"
          ]
        }
      ]
    },
    {
      "cell_type": "code",
      "source": [
        "import pandas as pd\n",
        "df_llms = pd.read_csv('/content/drive/MyDrive/SK/silverSpoonLLMsBinary.csv')\n",
        "df_human = pd.read_csv('/content/drive/MyDrive/SK/silverSpoonHumanBinary.csv')\n",
        "\n",
        "low_human_labels = df_human['Low_bin'].tolist()\n",
        "##flipped_low_human_labels = [1 if bit == 0 else 0 for bit in low_human_labels]\n",
        "up_human_labels = df_human['Up_bin'].tolist()\n",
        "#flipped_up_human_labels = [1 if bit == 0 else 0 for bit in up_human_labels]\n",
        "print(df_llms.columns)"
      ],
      "metadata": {
        "colab": {
          "base_uri": "https://localhost:8080/"
        },
        "id": "GL_xnLBsAbt9",
        "outputId": "7a2d35c9-f649-4a89-fbfb-b486969c110c"
      },
      "execution_count": null,
      "outputs": [
        {
          "output_type": "stream",
          "name": "stdout",
          "text": [
            "Index(['sno', 'text', 'GPT4', 'GPT4_bin', 'GPT3.5', 'GPT3.5_bin', 'Llama13B',\n",
            "       'Llama13B_bin', 'Llama7B', 'Llama7B_bin', 'Alpaca', 'Alpaca_bin',\n",
            "       'Zephyr7B', 'Zephyr7B_bin', 'Yi6B', 'Yi6B_bin'],\n",
            "      dtype='object')\n"
          ]
        }
      ]
    },
    {
      "cell_type": "code",
      "source": [
        "model = 'Yi6B'\n",
        "llm_labels = df_llms['{}_bin'.format(model)].tolist()\n",
        "#flipped_llm_labels = [1 if bit == 0 else 0 for bit in llm_labels]"
      ],
      "metadata": {
        "id": "cKPAYjIS5ds3"
      },
      "execution_count": null,
      "outputs": []
    },
    {
      "cell_type": "code",
      "source": [
        "list0 = llm_labels\n",
        "list1 = low_human_labels\n",
        "list2 = up_human_labels"
      ],
      "metadata": {
        "id": "htYYfCNy5EdK"
      },
      "execution_count": null,
      "outputs": []
    },
    {
      "cell_type": "markdown",
      "source": [
        "# Mathews corelation coefficient"
      ],
      "metadata": {
        "id": "RwmHXgSPxl1Y"
      }
    },
    {
      "cell_type": "code",
      "source": [
        "# Calculate the Matthews correlation coefficient\n",
        "TP = sum((a == 1) and (b == 1) for a, b in zip(list1, list0))  # TP equivalent to corresponding elements being 1\n",
        "TN = sum((a == 0) and (b == 0) for a, b in zip(list1, list0)) # TN equivalent to corresponding elements being 0 (TP+TN == intersection)\n",
        "FP = sum((a == 0) and (b == 1) for a, b in zip(list1, list0))\n",
        "FN = sum((a == 1) and (b == 0) for a, b in zip(list1, list0))\n",
        "\n",
        "interL  = TP + TN\n",
        "unionL = len(list1) + len(list0) - interL\n",
        "\n",
        "mcc_numerator = TP * TN - FP * FN\n",
        "mcc_denominator = ((TP + FP) * (TP + FN) * (TN + FP) * (TN + FN)) ** 0.5\n",
        "\n",
        "mccL = mcc_numerator / mcc_denominator if mcc_denominator != 0 else 0\n",
        "mccL = round(mccL, 3)\n",
        "\n",
        "# Print the Matthews correlation coefficient\n",
        "print(\"Matthews Correlation Coefficient:\", mccL)\n",
        "\n",
        "# Calculate the Matthews correlation coefficient\n",
        "TP = sum((a == 1) and (b == 1) for a, b in zip(list2, list0))\n",
        "TN = sum((a == 0) and (b == 0) for a, b in zip(list2, list0))\n",
        "FP = sum((a == 0) and (b == 1) for a, b in zip(list2, list0))\n",
        "FN = sum((a == 1) and (b == 0) for a, b in zip(list2, list0))\n",
        "\n",
        "interU  = TP + TN\n",
        "unionU = len(list2) + len(list0) - interU\n",
        "\n",
        "\n",
        "mcc_numerator = TP * TN - FP * FN\n",
        "mcc_denominator = ((TP + FP) * (TP + FN) * (TN + FP) * (TN + FN)) ** 0.5\n",
        "\n",
        "mccU = mcc_numerator / mcc_denominator if mcc_denominator != 0 else 0\n",
        "mccU = round(mccU, 3)\n",
        "\n",
        "# Print the Matthews correlation coefficient\n",
        "print(\"Matthews Correlation Coefficient:\", mccU)\n"
      ],
      "metadata": {
        "colab": {
          "base_uri": "https://localhost:8080/"
        },
        "id": "UE3-hcyvxQrn",
        "outputId": "658a0a71-b27e-40d1-f16f-17efd0aa0b13"
      },
      "execution_count": null,
      "outputs": [
        {
          "output_type": "stream",
          "name": "stdout",
          "text": [
            "Matthews Correlation Coefficient: 0.009\n",
            "Matthews Correlation Coefficient: 0.047\n"
          ]
        }
      ]
    },
    {
      "cell_type": "markdown",
      "source": [
        "# Dice Similarity\n"
      ],
      "metadata": {
        "id": "gsggwpjSxNuo"
      }
    },
    {
      "cell_type": "code",
      "source": [
        "# Calculate Dice similarity coefficient\n",
        "dsL = 2 * interL / (len(list1) + len(list0))\n",
        "dsL = round(dsL, 3)\n",
        "\n",
        "# Print the Dice similarity coefficient\n",
        "print(\"Dice Similarity Coefficient:\", dsL)\n",
        "\n",
        "# Calculate Dice similarity coefficient\n",
        "dsU = 2 * interU / (len(list2) + len(list0))\n",
        "dsU = round(dsU, 3)\n",
        "\n",
        "# Print the Dice similarity coefficient\n",
        "print(\"Dice Similarity Coefficient:\", dsU)"
      ],
      "metadata": {
        "colab": {
          "base_uri": "https://localhost:8080/"
        },
        "id": "-dK2xIhyw8qV",
        "outputId": "a7db3596-d916-4568-b460-15943cabb32c"
      },
      "execution_count": null,
      "outputs": [
        {
          "output_type": "stream",
          "name": "stdout",
          "text": [
            "Dice Similarity Coefficient: 0.468\n",
            "Dice Similarity Coefficient: 0.51\n"
          ]
        }
      ]
    },
    {
      "cell_type": "markdown",
      "source": [
        "# Jaccard similarity"
      ],
      "metadata": {
        "id": "9hvj1ZSr_hAW"
      }
    },
    {
      "cell_type": "code",
      "source": [
        "# Calculate Jaccard similarity\n",
        "jsL = interL / unionL\n",
        "jsL = round(jsL, 3)\n",
        "\n",
        "# Print the Jaccard similarity\n",
        "print(\"Jaccard Similarity:\", jsL)\n",
        "\n",
        "# Calculate Jaccard similarity\n",
        "jsU = interU / unionU\n",
        "jsU = round(jsU, 3)\n",
        "\n",
        "# Print the Jaccard similarity\n",
        "print(\"Jaccard Similarity:\", jsU)"
      ],
      "metadata": {
        "colab": {
          "base_uri": "https://localhost:8080/"
        },
        "id": "Vv53eaz_0aA_",
        "outputId": "721a5084-637d-46d8-df45-488a6beb3cf8"
      },
      "execution_count": null,
      "outputs": [
        {
          "output_type": "stream",
          "name": "stdout",
          "text": [
            "Jaccard Similarity: 0.305\n",
            "Jaccard Similarity: 0.342\n"
          ]
        }
      ]
    },
    {
      "cell_type": "markdown",
      "source": [
        "# Cohen's Kappa score"
      ],
      "metadata": {
        "id": "4TR_7A0s_lPz"
      }
    },
    {
      "cell_type": "code",
      "source": [
        "from sklearn.metrics import cohen_kappa_score\n",
        "\n",
        "ksL = cohen_kappa_score(list1, list0)\n",
        "ksL = round(ksL, 3)\n",
        "\n",
        "ksU = cohen_kappa_score(list2, list0)\n",
        "ksU = round(ksU, 3)\n",
        "\n",
        "kappa_score3 = cohen_kappa_score(list1,list2)\n",
        "\n",
        "print(\"Cohen's Kappa Score (LLM, lower-end): \", ksL)\n",
        "print(\"Cohen's Kappa Score (LLM, upper-end): \", ksU)\n",
        "print(\"Cohen's Kappa Score (lower-end, upper-end): \", kappa_score3)"
      ],
      "metadata": {
        "colab": {
          "base_uri": "https://localhost:8080/"
        },
        "id": "sgIcP7T9wkpl",
        "outputId": "c69fec64-671a-416d-fda9-fe74c55f68fb"
      },
      "execution_count": null,
      "outputs": [
        {
          "output_type": "stream",
          "name": "stdout",
          "text": [
            "Cohen's Kappa Score (LLM, lower-end):  0.007\n",
            "Cohen's Kappa Score (LLM, upper-end):  0.044\n",
            "Cohen's Kappa Score (lower-end, upper-end):  0.14179872401728755\n"
          ]
        }
      ]
    },
    {
      "cell_type": "markdown",
      "source": [
        "# Accuracy"
      ],
      "metadata": {
        "id": "b9G2e2XP_pwu"
      }
    },
    {
      "cell_type": "code",
      "source": [
        "from sklearn.metrics import accuracy_score\n",
        "accuracy_low = accuracy_score(list1, list0)\n",
        "accuracy_low = round(accuracy_low, 3)\n",
        "\n",
        "accuracy_up = accuracy_score(list2, list0)\n",
        "accuracy_up = round(accuracy_up, 3)\n",
        "\n",
        "print(\"Accuracy (LLM, lower-end): \", accuracy_low)\n",
        "print(\"Accuracy (LLM, upper-end): \", accuracy_up)"
      ],
      "metadata": {
        "colab": {
          "base_uri": "https://localhost:8080/"
        },
        "id": "_8_waMTYki_p",
        "outputId": "332a3c35-c2c0-4097-cd9a-9180cf742893"
      },
      "execution_count": null,
      "outputs": [
        {
          "output_type": "stream",
          "name": "stdout",
          "text": [
            "Accuracy (LLM, lower-end):  0.468\n",
            "Accuracy (LLM, upper-end):  0.51\n"
          ]
        }
      ]
    },
    {
      "cell_type": "code",
      "source": [
        "print('{} & {} & {} & {} & {} & {} & {} & {} & {} & {}'.format(accuracy_low, ksL, jsL, dsL, mccL, accuracy_up, ksU, jsU, dsU, mccU))"
      ],
      "metadata": {
        "colab": {
          "base_uri": "https://localhost:8080/"
        },
        "id": "tz-I0TAJwMot",
        "outputId": "7ad97936-115d-4a13-fb42-110c8063b9a7"
      },
      "execution_count": null,
      "outputs": [
        {
          "output_type": "stream",
          "name": "stdout",
          "text": [
            "0.468 & 0.007 & 0.305 & 0.468 & 0.009 & 0.51 & 0.044 & 0.342 & 0.51 & 0.047\n"
          ]
        }
      ]
    },
    {
      "cell_type": "code",
      "source": [],
      "metadata": {
        "id": "5dKKGbr-Oae5"
      },
      "execution_count": null,
      "outputs": []
    }
  ]
}